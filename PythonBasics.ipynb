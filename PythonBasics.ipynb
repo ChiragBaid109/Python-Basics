{
  "nbformat": 4,
  "nbformat_minor": 0,
  "metadata": {
    "colab": {
      "provenance": []
    },
    "kernelspec": {
      "name": "python3",
      "display_name": "Python 3"
    },
    "language_info": {
      "name": "python"
    }
  },
  "cells": [
    {
      "cell_type": "markdown",
      "source": [
        "**#Theory Questions**\n",
        "\n",
        "1) What is Python, and why is it popular?\n",
        "\n",
        "ans-Python is a popular, versatile, and high-level programming language known for its readability and simplicity. It's widely used in various fields like web development, data science, machine learning, and automation. Its popularity stems from its ease of learning, extensive libraries, and active community, making it a powerful tool for both beginners and experienced developers.\n",
        "\n",
        "2) What is an interpreter in Python?\n",
        "\n",
        "ans-In Python, an interpreter is a program that reads and executes Python code line by line\n",
        "\n",
        "3)What are pre-defined keywords in Python?\n",
        "\n",
        "ans-Keywords in Python are reserved words that have predefined meanings and cannot be used as identifiers\n",
        "\n",
        "4)Can keywords be used as variable names?\n",
        "\n",
        "ans-No, keywords cannot be used as variable names in most programming languages\n",
        "\n",
        "5)What is mutability in Python?\n",
        "\n",
        "ans-In Python, mutability refers to an object's ability to be modified after it is created.\n",
        "\n",
        "6)Why are lists mutable, but tuples are immutable?\n",
        "\n",
        "ans-Tuples use parentheses instead of square brackets, and the items in tuples cannot be modified (but the items in lists can be modified). We often call lists mutable (meaning they can be changed) and tuples immutable (meaning they cannot be changed)\n",
        "\n",
        "7)What is the difference between “==” and “is” operators in Python?\n",
        "\n",
        "ans-Equality Operator (==):\n",
        "Checks if the values of two objects are equal.\n",
        "It compares the content or data held by the objects.\n",
        "\n",
        "identity Operator (is):\n",
        "Checks if two variables refer to the same object in memory.\n",
        "It compares the memory addresses of the objects.\n",
        "\n",
        "8)What are logical operators in Python?\n",
        "\n",
        "ans-Logical operators in Python are used to combine or modify conditional statements. They operate on boolean values (True or False) and return a boolean result.\n",
        "\n",
        "9)What is type casting in Python?\n",
        "\n",
        "ans-Type casting, also known as type conversion, is the process of changing a variable's data type from one to another. This is done to ensure compatibility between different data types and to perform specific operations.\n",
        "\n",
        "10)What is the difference between implicit and explicit type casting?\n",
        "\n",
        "ans-Implicit type casting, also known as widening or upcasting, is when the compiler automatically converts a data type to a larger or more inclusive type. Explicit type casting, also called narrowing or downcasting, requires the programmer to use a cast operator to manually convert a data type to a smaller or less inclusive type\n",
        "\n",
        "11)What is the purpose of conditional statements in Python?\n",
        "\n",
        "ans-Conditional statements in Python are used to control the flow of execution in a program. They allow you to execute specific blocks of code based on whether certain conditions are met.\n",
        "\n",
        "12)How does the elif statement work?\n",
        "\n",
        "ans- if the first condition is false, it moves on to the next “elif” statement to check if that condition is true.\n",
        "\n",
        "13)What is the difference between for and while loops?\n",
        "\n",
        "ans-The primary difference between for and while loops is that for loops are best used when the number of iterations is known in advance, while while loops are more flexible and used when the number of iterations depends on a dynamic condition or is unknown\n",
        "\n",
        "14)Describe a scenario where a while loop is more suitable than a for loop.\n",
        "\n",
        "ans-Prefer a while loop when the condition has nothing to do with a collection/array and does not require a set number of iterations.\n"
      ],
      "metadata": {
        "id": "EcYCA-lF8lbg"
      }
    },
    {
      "cell_type": "code",
      "source": [
        "#1 Write a Python program to print \"Hello, World!\n",
        "print('Hello World')"
      ],
      "metadata": {
        "id": "Qd56yZ5JBbYM",
        "colab": {
          "base_uri": "https://localhost:8080/"
        },
        "outputId": "a4e23f72-b090-4bfc-ed14-21dd45e117eb"
      },
      "execution_count": 1,
      "outputs": [
        {
          "output_type": "stream",
          "name": "stdout",
          "text": [
            "Hello World\n"
          ]
        }
      ]
    },
    {
      "cell_type": "code",
      "source": [
        "#2 Write a Python program that displays your name and age\n",
        "a=input('Enter name: ')\n",
        "b=int(input('Enter age: '))\n",
        "print('Name:',a)\n",
        "print('Age:',b)"
      ],
      "metadata": {
        "colab": {
          "base_uri": "https://localhost:8080/"
        },
        "id": "7TzlDWiR0VK2",
        "outputId": "9dc2c60c-9a29-4930-c9ec-4e3e1540882b"
      },
      "execution_count": 2,
      "outputs": [
        {
          "output_type": "stream",
          "name": "stdout",
          "text": [
            "Enter name: Chirag\n",
            "Enter age: 19\n",
            "Name: Chirag\n",
            "Age: 19\n"
          ]
        }
      ]
    },
    {
      "cell_type": "code",
      "source": [
        "# 3 Write code to print all the pre-defined keywords in Python using the keyword library\n",
        "help('keywords')"
      ],
      "metadata": {
        "colab": {
          "base_uri": "https://localhost:8080/"
        },
        "id": "gItwh4SR0oJW",
        "outputId": "426c1bbd-8b9a-4ac7-e6bd-0fa26b89025e"
      },
      "execution_count": 3,
      "outputs": [
        {
          "output_type": "stream",
          "name": "stdout",
          "text": [
            "\n",
            "Here is a list of the Python keywords.  Enter any keyword to get more help.\n",
            "\n",
            "False               class               from                or\n",
            "None                continue            global              pass\n",
            "True                def                 if                  raise\n",
            "and                 del                 import              return\n",
            "as                  elif                in                  try\n",
            "assert              else                is                  while\n",
            "async               except              lambda              with\n",
            "await               finally             nonlocal            yield\n",
            "break               for                 not                 \n",
            "\n"
          ]
        }
      ]
    },
    {
      "cell_type": "code",
      "source": [
        "# 4 Write a program that checks if a given word is a Python keyword.\n",
        "import keyword\n",
        "a=input('Enter a word: ')\n",
        "if keyword.iskeyword(a):\n",
        "  print(a,'is a keyword')\n",
        "else:\n",
        "  print(a,'is not a keyword')"
      ],
      "metadata": {
        "colab": {
          "base_uri": "https://localhost:8080/"
        },
        "id": "039Y9ved1WFi",
        "outputId": "9dc030e0-5b16-4983-f616-8028355f2d61"
      },
      "execution_count": 4,
      "outputs": [
        {
          "output_type": "stream",
          "name": "stdout",
          "text": [
            "Enter a word: for\n",
            "for is a keyword\n"
          ]
        }
      ]
    },
    {
      "cell_type": "code",
      "source": [
        "# Create a list and tuple in Python, and demonstrate how attempting to change an element works differently for each.\n",
        "lst=[1,2,3]\n",
        "tup=(1,2,3)\n",
        "lst[0]=10\n",
        "print(lst)"
      ],
      "metadata": {
        "colab": {
          "base_uri": "https://localhost:8080/"
        },
        "id": "KgoxhbxM15nC",
        "outputId": "c41eded5-7fc7-47af-9587-cb9bafbac379"
      },
      "execution_count": 7,
      "outputs": [
        {
          "output_type": "stream",
          "name": "stdout",
          "text": [
            "[10, 2, 3]\n"
          ]
        }
      ]
    },
    {
      "cell_type": "code",
      "source": [
        "tup[0]=20"
      ],
      "metadata": {
        "colab": {
          "base_uri": "https://localhost:8080/",
          "height": 141
        },
        "id": "DX0n2_Ds2YoQ",
        "outputId": "77f9dd30-30f4-4161-f65f-5ec0f9c93da5"
      },
      "execution_count": 8,
      "outputs": [
        {
          "output_type": "error",
          "ename": "TypeError",
          "evalue": "'tuple' object does not support item assignment",
          "traceback": [
            "\u001b[0;31m---------------------------------------------------------------------------\u001b[0m",
            "\u001b[0;31mTypeError\u001b[0m                                 Traceback (most recent call last)",
            "\u001b[0;32m<ipython-input-8-2f6fd395f5d3>\u001b[0m in \u001b[0;36m<cell line: 0>\u001b[0;34m()\u001b[0m\n\u001b[0;32m----> 1\u001b[0;31m \u001b[0mtup\u001b[0m\u001b[0;34m[\u001b[0m\u001b[0;36m0\u001b[0m\u001b[0;34m]\u001b[0m\u001b[0;34m=\u001b[0m\u001b[0;36m20\u001b[0m\u001b[0;34m\u001b[0m\u001b[0;34m\u001b[0m\u001b[0m\n\u001b[0m",
            "\u001b[0;31mTypeError\u001b[0m: 'tuple' object does not support item assignment"
          ]
        }
      ]
    },
    {
      "cell_type": "code",
      "source": [
        "# Write a function to demonstrate the behavior of mutable and immutable arguments.\n",
        "def demonstrate_mutability(mutable_arg, immutable_arg):\n",
        "    \"\"\"Demonstrates the behavior of mutable and immutable arguments.\n",
        "\n",
        "    Args:\n",
        "        mutable_arg: A mutable object (e.g., list, dictionary).\n",
        "        immutable_arg: An immutable object (e.g., integer, string).\n",
        "    \"\"\"\n",
        "\n",
        "    print(\"Original mutable argument:\", mutable_arg)\n",
        "    print(\"Original immutable argument:\", immutable_arg)\n",
        "\n",
        "    # Modifying mutable argument\n",
        "    mutable_arg.append(4)\n",
        "    mutable_arg[0] = 99\n",
        "    print(\"Modified mutable argument:\", mutable_arg)\n",
        "\n",
        "    # Modifying immutable argument (creates a new object)\n",
        "    immutable_arg = immutable_arg + 1\n",
        "    print(\"Modified immutable argument:\", immutable_arg)\n",
        "\n",
        "\n",
        "# Example usage\n",
        "my_list = [1, 2, 3]\n",
        "my_int = 5\n",
        "\n",
        "demonstrate_mutability(my_list, my_int)\n",
        "\n",
        "print(\"List after function call:\", my_list)\n",
        "print(\"Integer after function call:\", my_int)"
      ],
      "metadata": {
        "colab": {
          "base_uri": "https://localhost:8080/"
        },
        "id": "hKoz6La12cV0",
        "outputId": "0598bbf0-bea9-4ac0-cda9-c1f4611137fe"
      },
      "execution_count": 9,
      "outputs": [
        {
          "output_type": "stream",
          "name": "stdout",
          "text": [
            "Original mutable argument: [1, 2, 3]\n",
            "Original immutable argument: 5\n",
            "Modified mutable argument: [99, 2, 3, 4]\n",
            "Modified immutable argument: 6\n",
            "List after function call: [99, 2, 3, 4]\n",
            "Integer after function call: 5\n"
          ]
        }
      ]
    },
    {
      "cell_type": "code",
      "source": [
        "# Write a program that performs basic arithmetic operations on two user-input numbers.\n",
        "a=int(input('Enter first number: '))\n",
        "b=int(input('Enter second number: '))\n",
        "print('Addition:',a+b)\n",
        "print('Subtraction:',a-b)\n",
        "print('Multiplication:',a*b)\n",
        "print('Division:',a/b)"
      ],
      "metadata": {
        "colab": {
          "base_uri": "https://localhost:8080/"
        },
        "id": "qJFUI20O3Jld",
        "outputId": "3b72a690-70ee-4388-cb67-2e06ddb2048b"
      },
      "execution_count": 10,
      "outputs": [
        {
          "output_type": "stream",
          "name": "stdout",
          "text": [
            "Enter first number: 6\n",
            "Enter second number: 2\n",
            "Addition: 8\n",
            "Subtraction: 4\n",
            "Multiplication: 12\n",
            "Division: 3.0\n"
          ]
        }
      ]
    },
    {
      "cell_type": "code",
      "source": [
        "# Write a program to demonstrate the use of logical operators.\n",
        "a=int(input('Enter first number: '))\n",
        "b=int(input('Enter second number: '))\n",
        "print('AND:',a and b)\n",
        "print('OR:',a or b)\n",
        "print('NOT:',not a)"
      ],
      "metadata": {
        "colab": {
          "base_uri": "https://localhost:8080/"
        },
        "id": "6x_-2W-P3T_j",
        "outputId": "7d20e017-5dea-4cb5-bffb-05177b4a9d59"
      },
      "execution_count": 11,
      "outputs": [
        {
          "output_type": "stream",
          "name": "stdout",
          "text": [
            "Enter first number: 3\n",
            "Enter second number: 4\n",
            "AND: 4\n",
            "OR: 3\n",
            "NOT: False\n"
          ]
        }
      ]
    },
    {
      "cell_type": "code",
      "source": [
        "# Write a Python program to convert user input from string to integer, float, and boolean types.\n",
        "a=input('Enter a number: ')\n",
        "print(int(a))\n",
        "print(float(a))\n",
        "print(bool(a))"
      ],
      "metadata": {
        "colab": {
          "base_uri": "https://localhost:8080/"
        },
        "id": "rBf7tpwH3tg8",
        "outputId": "e34c7fa0-1846-4338-fa3e-e44dc7cac2c6"
      },
      "execution_count": 12,
      "outputs": [
        {
          "output_type": "stream",
          "name": "stdout",
          "text": [
            "Enter a number: 2\n",
            "2\n",
            "2.0\n",
            "True\n"
          ]
        }
      ]
    },
    {
      "cell_type": "code",
      "source": [
        "# Write code to demonstrate type casting with list elements.\n",
        "lst=[1,2,3]\n",
        "print(lst)\n",
        "print(tuple(lst))"
      ],
      "metadata": {
        "colab": {
          "base_uri": "https://localhost:8080/"
        },
        "id": "kNHSFQaE3_DV",
        "outputId": "86738621-b210-495a-b73c-892c0e177f28"
      },
      "execution_count": 13,
      "outputs": [
        {
          "output_type": "stream",
          "name": "stdout",
          "text": [
            "[1, 2, 3]\n",
            "(1, 2, 3)\n"
          ]
        }
      ]
    },
    {
      "cell_type": "code",
      "source": [
        "# Write a program that checks if a number is positive, negative, or zero.\n",
        "a=int(input('Enter a number: '))\n",
        "if a>0:\n",
        "  print(a,'is positive')\n",
        "elif a<0:\n",
        "  print(a,'is negative')\n",
        "else:\n",
        "  print(a,'is zero')"
      ],
      "metadata": {
        "colab": {
          "base_uri": "https://localhost:8080/"
        },
        "id": "n7o3Nzeu4KtX",
        "outputId": "05e4f5e4-0150-443a-f0e0-a07195111b6d"
      },
      "execution_count": 14,
      "outputs": [
        {
          "output_type": "stream",
          "name": "stdout",
          "text": [
            "Enter a number: 0\n",
            "0 is zero\n"
          ]
        }
      ]
    },
    {
      "cell_type": "code",
      "source": [
        "# Write a for loop to print numbers from 1 to 10.\n",
        "for i in range(1,11):\n",
        "  print(i,end=' ')"
      ],
      "metadata": {
        "colab": {
          "base_uri": "https://localhost:8080/"
        },
        "id": "VSRmKONu4TGR",
        "outputId": "99c6527e-39c5-472b-9bfe-d73da6cf27db"
      },
      "execution_count": 16,
      "outputs": [
        {
          "output_type": "stream",
          "name": "stdout",
          "text": [
            "1 2 3 4 5 6 7 8 9 10 "
          ]
        }
      ]
    },
    {
      "cell_type": "code",
      "source": [
        "# Write a Python program to find the sum of all even numbers between 1 and 50.\n",
        "total=0\n",
        "for i in range(2,51,2):\n",
        "  total+=i\n",
        "print('The total of number',total)"
      ],
      "metadata": {
        "colab": {
          "base_uri": "https://localhost:8080/"
        },
        "id": "_FaI5KqE4fXJ",
        "outputId": "433d1195-5603-4a47-fbc8-7c3fddd0c962"
      },
      "execution_count": 17,
      "outputs": [
        {
          "output_type": "stream",
          "name": "stdout",
          "text": [
            "The total of number 650\n"
          ]
        }
      ]
    },
    {
      "cell_type": "code",
      "source": [
        "# Write a program to reverse a string using a while loop.\n",
        "name= input(\"Enter the name: \")\n",
        "reverse=name[::-1]\n",
        "print('Revrsed string: ',reverse)"
      ],
      "metadata": {
        "colab": {
          "base_uri": "https://localhost:8080/"
        },
        "id": "jstKLYj65Lu8",
        "outputId": "13b26ea1-0586-4bc9-a643-941106b02317"
      },
      "execution_count": 25,
      "outputs": [
        {
          "output_type": "stream",
          "name": "stdout",
          "text": [
            "Enter the name: Python\n",
            "Revrsed string:  nohtyP\n"
          ]
        }
      ]
    },
    {
      "cell_type": "code",
      "source": [
        "# Write a Python program to calculate the factorial of a number provided by the user using a while loop.\n",
        "num=int(input('Enter a number: '))\n",
        "factorial=1\n",
        "i=1\n",
        "while i<=num:\n",
        "  factorial=factorial*i\n",
        "  i=i+1\n",
        "print('Factorial of',num,'is',factorial)"
      ],
      "metadata": {
        "colab": {
          "base_uri": "https://localhost:8080/"
        },
        "id": "A9s5_9sa7TV6",
        "outputId": "0ba14b45-8abf-4aba-e315-89ba1848a007"
      },
      "execution_count": 26,
      "outputs": [
        {
          "output_type": "stream",
          "name": "stdout",
          "text": [
            "Enter a number: 4\n",
            "Factorial of 4 is 24\n"
          ]
        }
      ]
    }
  ]
}